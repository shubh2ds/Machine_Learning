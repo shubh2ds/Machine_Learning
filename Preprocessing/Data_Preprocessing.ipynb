{
  "nbformat": 4,
  "nbformat_minor": 0,
  "metadata": {
    "colab": {
      "name": "Data Preprocessing.ipynb",
      "provenance": [],
      "collapsed_sections": []
    },
    "kernelspec": {
      "name": "python3",
      "display_name": "Python 3"
    },
    "language_info": {
      "name": "python"
    }
  },
  "cells": [
    {
      "cell_type": "code",
      "metadata": {
        "colab": {
          "base_uri": "https://localhost:8080/",
          "height": 220
        },
        "id": "vU90WWR3GraB",
        "outputId": "ae397e8d-331f-48d4-b9d5-6b24dfff43c9"
      },
      "source": [
        "# Data Preprocessing\n",
        "# Importing the libraries\n",
        "import numpy as np\n",
        "import matplotlib.pyplot as plt\n",
        "import pandas as pd\n",
        "# Importing the dataset\n",
        "datasets = pd.read_csv('/content/drive/MyDrive/WorkSpace2/ML/01_ Data_Preprocessing/Data.csv')\n",
        "print(len(datasets))\n",
        "datasets.head()"
      ],
      "execution_count": 110,
      "outputs": [
        {
          "output_type": "stream",
          "name": "stdout",
          "text": [
            "10\n"
          ]
        },
        {
          "output_type": "execute_result",
          "data": {
            "text/html": [
              "<div>\n",
              "<style scoped>\n",
              "    .dataframe tbody tr th:only-of-type {\n",
              "        vertical-align: middle;\n",
              "    }\n",
              "\n",
              "    .dataframe tbody tr th {\n",
              "        vertical-align: top;\n",
              "    }\n",
              "\n",
              "    .dataframe thead th {\n",
              "        text-align: right;\n",
              "    }\n",
              "</style>\n",
              "<table border=\"1\" class=\"dataframe\">\n",
              "  <thead>\n",
              "    <tr style=\"text-align: right;\">\n",
              "      <th></th>\n",
              "      <th>Country</th>\n",
              "      <th>Age</th>\n",
              "      <th>Salary</th>\n",
              "      <th>Purchased</th>\n",
              "    </tr>\n",
              "  </thead>\n",
              "  <tbody>\n",
              "    <tr>\n",
              "      <th>0</th>\n",
              "      <td>France</td>\n",
              "      <td>44.0</td>\n",
              "      <td>72000.0</td>\n",
              "      <td>No</td>\n",
              "    </tr>\n",
              "    <tr>\n",
              "      <th>1</th>\n",
              "      <td>Spain</td>\n",
              "      <td>27.0</td>\n",
              "      <td>48000.0</td>\n",
              "      <td>Yes</td>\n",
              "    </tr>\n",
              "    <tr>\n",
              "      <th>2</th>\n",
              "      <td>Germany</td>\n",
              "      <td>30.0</td>\n",
              "      <td>54000.0</td>\n",
              "      <td>No</td>\n",
              "    </tr>\n",
              "    <tr>\n",
              "      <th>3</th>\n",
              "      <td>Spain</td>\n",
              "      <td>38.0</td>\n",
              "      <td>61000.0</td>\n",
              "      <td>No</td>\n",
              "    </tr>\n",
              "    <tr>\n",
              "      <th>4</th>\n",
              "      <td>Germany</td>\n",
              "      <td>40.0</td>\n",
              "      <td>NaN</td>\n",
              "      <td>Yes</td>\n",
              "    </tr>\n",
              "  </tbody>\n",
              "</table>\n",
              "</div>"
            ],
            "text/plain": [
              "   Country   Age   Salary Purchased\n",
              "0   France  44.0  72000.0        No\n",
              "1    Spain  27.0  48000.0       Yes\n",
              "2  Germany  30.0  54000.0        No\n",
              "3    Spain  38.0  61000.0        No\n",
              "4  Germany  40.0      NaN       Yes"
            ]
          },
          "metadata": {},
          "execution_count": 110
        }
      ]
    },
    {
      "cell_type": "code",
      "metadata": {
        "colab": {
          "base_uri": "https://localhost:8080/"
        },
        "id": "LZKKl57PH1di",
        "outputId": "864d3441-826d-47ea-b57e-7977867f4011"
      },
      "source": [
        "len( datasets[datasets['Age'].isnull()==True])"
      ],
      "execution_count": 111,
      "outputs": [
        {
          "output_type": "execute_result",
          "data": {
            "text/plain": [
              "1"
            ]
          },
          "metadata": {},
          "execution_count": 111
        }
      ]
    },
    {
      "cell_type": "code",
      "metadata": {
        "colab": {
          "base_uri": "https://localhost:8080/"
        },
        "id": "Eui5CP4HIvnM",
        "outputId": "84ab08b8-fcef-4c21-e6b7-e62303359bb4"
      },
      "source": [
        "#datasets.iloc[:,[0,1,3]]\n",
        "X=datasets.iloc[:,1:-1].values\n",
        "Y=datasets.iloc[:,-1].values\n",
        "print(X.ndim,Y.ndim)\n",
        "X"
      ],
      "execution_count": 112,
      "outputs": [
        {
          "output_type": "stream",
          "name": "stdout",
          "text": [
            "2 1\n"
          ]
        },
        {
          "output_type": "execute_result",
          "data": {
            "text/plain": [
              "array([[4.4e+01, 7.2e+04],\n",
              "       [2.7e+01, 4.8e+04],\n",
              "       [3.0e+01, 5.4e+04],\n",
              "       [3.8e+01, 6.1e+04],\n",
              "       [4.0e+01,     nan],\n",
              "       [3.5e+01, 5.8e+04],\n",
              "       [    nan, 5.2e+04],\n",
              "       [4.8e+01, 7.9e+04],\n",
              "       [5.0e+01, 8.3e+04],\n",
              "       [3.7e+01, 6.7e+04]])"
            ]
          },
          "metadata": {},
          "execution_count": 112
        }
      ]
    },
    {
      "cell_type": "code",
      "metadata": {
        "colab": {
          "base_uri": "https://localhost:8080/"
        },
        "id": "pGF7poM_Ivqf",
        "outputId": "5f34067f-567e-4fee-8d48-de573caeabce"
      },
      "source": [
        "from sklearn.impute import SimpleImputer\n",
        "imputer = SimpleImputer(missing_values=np.nan, strategy='mean')\n",
        "X[:,0:3]=imputer.fit_transform(X[:,0:3])\n",
        "X[:,0:3]"
      ],
      "execution_count": 113,
      "outputs": [
        {
          "output_type": "execute_result",
          "data": {
            "text/plain": [
              "array([[4.40000000e+01, 7.20000000e+04],\n",
              "       [2.70000000e+01, 4.80000000e+04],\n",
              "       [3.00000000e+01, 5.40000000e+04],\n",
              "       [3.80000000e+01, 6.10000000e+04],\n",
              "       [4.00000000e+01, 6.37777778e+04],\n",
              "       [3.50000000e+01, 5.80000000e+04],\n",
              "       [3.87777778e+01, 5.20000000e+04],\n",
              "       [4.80000000e+01, 7.90000000e+04],\n",
              "       [5.00000000e+01, 8.30000000e+04],\n",
              "       [3.70000000e+01, 6.70000000e+04]])"
            ]
          },
          "metadata": {},
          "execution_count": 113
        }
      ]
    },
    {
      "cell_type": "code",
      "metadata": {
        "colab": {
          "base_uri": "https://localhost:8080/"
        },
        "id": "Nc57c9CgRtbi",
        "outputId": "bfad7d52-ef9e-4b64-ca32-1002789a3fa6"
      },
      "source": [
        "from sklearn.preprocessing import OneHotEncoder,LabelEncoder\n",
        "label_encoder=LabelEncoder()\n",
        "Y=label_encoder.fit_transform(Y)\n",
        "Y"
      ],
      "execution_count": 114,
      "outputs": [
        {
          "output_type": "execute_result",
          "data": {
            "text/plain": [
              "array([0, 1, 0, 0, 1, 1, 0, 1, 0, 1])"
            ]
          },
          "metadata": {},
          "execution_count": 114
        }
      ]
    },
    {
      "cell_type": "code",
      "metadata": {
        "id": "2JvgxR3MHT7d"
      },
      "source": [
        "\"\"\"binary_enc = OneHotEncoder() #.fit(X)\n",
        "X_encoded=binary_enc.fit_transform(X).toarray()\n",
        "X_encoded\"\"\""
      ],
      "execution_count": null,
      "outputs": []
    },
    {
      "cell_type": "code",
      "metadata": {
        "colab": {
          "base_uri": "https://localhost:8080/"
        },
        "id": "eIwJBPbfOJx8",
        "outputId": "d90eea03-d5db-44c5-abe6-bd26f968d369"
      },
      "source": [
        "from sklearn.preprocessing import StandardScaler\n",
        "stdscaler=StandardScaler()\n",
        "X_all=stdscaler.fit_transform(X)\n",
        "X_all"
      ],
      "execution_count": 115,
      "outputs": [
        {
          "output_type": "execute_result",
          "data": {
            "text/plain": [
              "array([[ 7.58874362e-01,  7.49473254e-01],\n",
              "       [-1.71150388e+00, -1.43817841e+00],\n",
              "       [-1.27555478e+00, -8.91265492e-01],\n",
              "       [-1.13023841e-01, -2.53200424e-01],\n",
              "       [ 1.77608893e-01,  6.63219199e-16],\n",
              "       [-5.48972942e-01, -5.26656882e-01],\n",
              "       [ 0.00000000e+00, -1.07356980e+00],\n",
              "       [ 1.34013983e+00,  1.38753832e+00],\n",
              "       [ 1.63077256e+00,  1.75214693e+00],\n",
              "       [-2.58340208e-01,  2.93712492e-01]])"
            ]
          },
          "metadata": {},
          "execution_count": 115
        }
      ]
    },
    {
      "cell_type": "code",
      "metadata": {
        "colab": {
          "base_uri": "https://localhost:8080/"
        },
        "id": "lvUaFEiLVB3V",
        "outputId": "8434c351-62b4-4f61-d3cc-cdb180a7e6c2"
      },
      "source": [
        "X_all[0,0]"
      ],
      "execution_count": 116,
      "outputs": [
        {
          "output_type": "execute_result",
          "data": {
            "text/plain": [
              "0.758874361590019"
            ]
          },
          "metadata": {},
          "execution_count": 116
        }
      ]
    },
    {
      "cell_type": "code",
      "metadata": {
        "colab": {
          "base_uri": "https://localhost:8080/"
        },
        "id": "bO_i35HWTFnE",
        "outputId": "199fa64e-b5df-4f35-bf9c-06c6c7773189"
      },
      "source": [
        "from sklearn.model_selection import train_test_split\n",
        "x_train,x_test,y_train,y_test=train_test_split(X_all,Y,test_size=0.2,random_state=0)\n",
        "print(len(x_train),len(x_test),len(y_train),len(y_test))"
      ],
      "execution_count": 117,
      "outputs": [
        {
          "output_type": "stream",
          "name": "stdout",
          "text": [
            "8 2 8 2\n"
          ]
        }
      ]
    },
    {
      "cell_type": "code",
      "metadata": {
        "id": "2tBtPDjMTFqh"
      },
      "source": [
        ""
      ],
      "execution_count": null,
      "outputs": []
    }
  ]
}